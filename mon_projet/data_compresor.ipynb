{
 "cells": [
  {
   "cell_type": "code",
   "execution_count": 2,
   "metadata": {},
   "outputs": [
    {
     "name": "stderr",
     "output_type": "stream",
     "text": [
      "C:\\Users\\abder\\AppData\\Local\\Temp\\ipykernel_13860\\2192501633.py:17: FutureWarning: The behavior of DataFrame concatenation with empty or all-NA entries is deprecated. In a future version, this will no longer exclude empty or all-NA columns when determining the result dtypes. To retain the old behavior, exclude the relevant entries before the concat operation.\n",
      "  df_combined = pd.concat([df_debut, df_mi, df_fin])\n"
     ]
    },
    {
     "name": "stdout",
     "output_type": "stream",
     "text": [
      "MAE: 39.00782757695373, MSE: 44908.81812526928, RMSE: 211.9170076356999, R2: 0.9995481241409095\n"
     ]
    },
    {
     "data": {
      "text/plain": [
       "['model_real.pkl']"
      ]
     },
     "execution_count": 2,
     "metadata": {},
     "output_type": "execute_result"
    }
   ],
   "source": [
    "import pandas as pd\n",
    "import numpy as np\n",
    "\n",
    "from sklearn.model_selection import train_test_split\n",
    "from sklearn.preprocessing import StandardScaler\n",
    "from sklearn.ensemble import RandomForestRegressor\n",
    "from sklearn.metrics import mean_absolute_error, mean_squared_error, r2_score\n",
    "import joblib\n",
    "\n",
    "# Charger les fichiers Excel\n",
    "# Charger les fichiers Excel\n",
    "df_debut = pd.read_excel('C:/Users/abder/Desktop/data9debut.xlsx')\n",
    "df_mi = pd.read_excel('C:/Users/abder/Desktop/data9mi.xlsx')\n",
    "df_fin = pd.read_excel('C:/Users/abder/Desktop/data9fin.xlsx')  # Correction ici\n",
    "\n",
    "# Combiner les données dans un seul DataFrame\n",
    "df_combined = pd.concat([df_debut, df_mi, df_fin])\n",
    "\n",
    "\n",
    "\n",
    "# Liste des paramètres critiques\n",
    "critical_parameters = [\n",
    "    \"Débit d'aspiration\",\n",
    "    \"vitesse moteur\",\n",
    "    \"PI 900\\nPERTE DE CHARGE DE L'UNITEE\",\n",
    "    \"pression de refoulement\",\n",
    "    \"température duct de refoulement\"\n",
    "]\n",
    "\n",
    "# Créer la colonne 'Performance' (par exemple, une moyenne des paramètres critiques pour simplifier)\n",
    "df_combined['Performance'] = df_combined[critical_parameters].mean(axis=1)\n",
    "\n",
    "# Préparer X et y\n",
    "X = df_combined[critical_parameters]\n",
    "y = df_combined['Performance']\n",
    "\n",
    "# Normalisation des données\n",
    "scaler = StandardScaler()\n",
    "X_normalized = scaler.fit_transform(X)\n",
    "\n",
    "# Enregistrer le scaler pour une utilisation ultérieure dans l'API\n",
    "joblib.dump(scaler, 'scaler_real.pkl')\n",
    "\n",
    "# Diviser les données en ensembles d'entraînement et de test\n",
    "X_train, X_test, y_train, y_test = train_test_split(X_normalized, y, test_size=0.2, random_state=42)\n",
    "\n",
    "# Entraîner le modèle Random Forest\n",
    "model = RandomForestRegressor(random_state=42)\n",
    "model.fit(X_train, y_train)\n",
    "\n",
    "# Évaluer le modèle\n",
    "y_pred = model.predict(X_test)\n",
    "mae = mean_absolute_error(y_test, y_pred)\n",
    "mse = mean_squared_error(y_test, y_pred)\n",
    "rmse = np.sqrt(mse)\n",
    "r2 = r2_score(y_test, y_pred)\n",
    "\n",
    "print(f'MAE: {mae}, MSE: {mse}, RMSE: {rmse}, R2: {r2}')\n",
    "\n",
    "# Enregistrer le modèle\n",
    "joblib.dump(model, 'model_real.pkl')\n"
   ]
  }
 ],
 "metadata": {
  "kernelspec": {
   "display_name": "Python 3",
   "language": "python",
   "name": "python3"
  },
  "language_info": {
   "codemirror_mode": {
    "name": "ipython",
    "version": 3
   },
   "file_extension": ".py",
   "mimetype": "text/x-python",
   "name": "python",
   "nbconvert_exporter": "python",
   "pygments_lexer": "ipython3",
   "version": "3.10.11"
  }
 },
 "nbformat": 4,
 "nbformat_minor": 2
}
